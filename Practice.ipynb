{
  "nbformat": 4,
  "nbformat_minor": 0,
  "metadata": {
    "colab": {
      "name": "Practice",
      "provenance": []
    },
    "kernelspec": {
      "name": "python3",
      "display_name": "Python 3"
    },
    "language_info": {
      "name": "python"
    }
  },
  "cells": [
    {
      "cell_type": "code",
      "metadata": {
        "colab": {
          "base_uri": "https://localhost:8080/"
        },
        "id": "03owMAdaNR3G",
        "outputId": "ad32cbc0-cd74-48d3-e3bb-8a9caad852dc"
      },
      "source": [
        "n=int(input())\n",
        "x=[]\n",
        "y=[]\n",
        "for i in range(n):\n",
        "  a=int(input())\n",
        "  x.append(a)\n",
        "  b=int(input())\n",
        "  y.append(b)\n",
        "\n",
        "if((y[0] - y[1]) * (x[0] - x[2]) == (y[0] - y[2]) * (x[0] - x[1])):\n",
        "  print(\"yes\")\n",
        "else:\n",
        "  print(\"No\")\n",
        "\n",
        "\n"
      ],
      "execution_count": null,
      "outputs": [
        {
          "output_type": "stream",
          "text": [
            "3\n",
            "1\n",
            "1\n",
            "2\n",
            "2\n",
            "3\n",
            "3\n",
            "yes\n"
          ],
          "name": "stdout"
        }
      ]
    },
    {
      "cell_type": "code",
      "metadata": {
        "colab": {
          "base_uri": "https://localhost:8080/"
        },
        "id": "vngc-pRoR6VN",
        "outputId": "811fed93-0be9-4a31-88a9-4f2b49a7dd0b"
      },
      "source": [
        "x=[10,20,3,45,68,11]\n",
        "y=[]"
      ],
      "execution_count": null,
      "outputs": [
        {
          "output_type": "stream",
          "text": [
            "3\n"
          ],
          "name": "stdout"
        }
      ]
    },
    {
      "cell_type": "code",
      "metadata": {
        "colab": {
          "base_uri": "https://localhost:8080/"
        },
        "id": "FXZtwo2LLKnK",
        "outputId": "d32f4f3d-8cac-4d76-802c-8632f676d5eb"
      },
      "source": [
        "n=int(input())\n",
        "count=0\n",
        "while(n!=0):\n",
        "  if n%2==0:\n",
        "    n=n-(n/2)\n",
        "    count=count+1\n",
        "  else:\n",
        "    count=count+1\n",
        "    n=n-1\n",
        "print(count)\n",
        "\n",
        "  \n",
        "  "
      ],
      "execution_count": null,
      "outputs": [
        {
          "output_type": "stream",
          "text": [
            "10\n",
            "5\n"
          ],
          "name": "stdout"
        }
      ]
    },
    {
      "cell_type": "code",
      "metadata": {
        "colab": {
          "base_uri": "https://localhost:8080/"
        },
        "id": "xDz0cW2GQU4z",
        "outputId": "a1daec6c-d42b-437e-b29c-e7a102ca83a7"
      },
      "source": [
        "def findStep( n) :\n",
        "    if (n == 1 or n == 0) :\n",
        "        return 1\n",
        "    elif (n == 2) :\n",
        "        return 2\n",
        "     \n",
        "    else :\n",
        "        return findStep(n - 3) + findStep(n - 2) + findStep(n - 1)\n",
        " \n",
        "\n",
        "n = 4\n",
        "print(findStep(n))"
      ],
      "execution_count": null,
      "outputs": [
        {
          "output_type": "stream",
          "text": [
            "7\n"
          ],
          "name": "stdout"
        }
      ]
    },
    {
      "cell_type": "code",
      "metadata": {
        "id": "Iwg9YBYeKUPq"
      },
      "source": [
        "def fib(n):\n",
        "    if n <= 1:\n",
        "        return n\n",
        "    return fib(n-1) + fib(n-2)\n",
        " \n",
        "# Returns no. of ways to\n",
        "# reach sth stair\n",
        "def countWays(s):\n",
        "    return fib(s + 1)\n",
        " \n",
        "# Driver program\n",
        "s = 10\n",
        "print \"Number of ways = \",\n",
        "print countWays(s)"
      ],
      "execution_count": null,
      "outputs": []
    },
    {
      "cell_type": "code",
      "metadata": {
        "colab": {
          "base_uri": "https://localhost:8080/"
        },
        "id": "WGR9xQY87JWv",
        "outputId": "444e435d-c1b6-49d7-c272-a80e41882a9c"
      },
      "source": [
        "def rotateMatrix(N) :\n",
        " \n",
        "    global M, matrix\n",
        "    temp = [0] * M\n",
        "    N = N % M\n",
        "    for i in range(0, M) :\n",
        "        for t in range(0, M - N) :\n",
        "            temp[t] = matrix[i][t]\n",
        "     \n",
        "        for j in range(M - N, M) :\n",
        "            matrix[i][j - M + N] = matrix[i][j]\n",
        "     \n",
        "        for j in range(N, M) :\n",
        "            matrix[i][j] = temp[j - N]\n",
        "\n",
        "c=0\n",
        "li=[]\n",
        "def displayMatrix() :\n",
        " \n",
        "  for i in range (len(matrix)):\n",
        "    for j in range (len(matrix)):\n",
        "      c=matrix[i][j]\n",
        "      li.append(c)\n",
        "  for i in li:\n",
        "    print(i,end = \" \")\n",
        "N=1\n",
        "M=2\n",
        "matrix=[[4,2],\n",
        "        [3,1]]\n",
        "rotateMatrix(N)\n",
        "displayMatrix()"
      ],
      "execution_count": null,
      "outputs": [
        {
          "output_type": "stream",
          "text": [
            "2 4 1 3 "
          ],
          "name": "stdout"
        }
      ]
    },
    {
      "cell_type": "code",
      "metadata": {
        "colab": {
          "base_uri": "https://localhost:8080/"
        },
        "id": "mhkFGDYq7zkR",
        "outputId": "92461cf4-9f6f-40dc-9943-c2764175106f"
      },
      "source": [
        "def print_matrix(mat):\n",
        " for i in range (len(mat)):\n",
        "  for j in range (len(mat)):\n",
        "    print(str(mat[i][j]), end = \" \")\n",
        "    print()\n",
        "\n",
        "# Function to transpose the matrix\n",
        "def transpose_matrix(mat):\n",
        " for i in range(len(mat)):\n",
        "  for j in range(i,len(mat)):\n",
        "    mat[i][j], mat[j][i] = mat[j][i],mat[i][j]\n",
        "\n",
        "# Function to reverse the columns of the matrix\n",
        "def reverse_columns(mat):\n",
        " for i in range (len(mat)):\n",
        "  k = len(mat) - 1;\n",
        "  for j in range(0,k):\n",
        "      mat[j][i], mat[k][i] = mat[k][i], mat[j][i]\n",
        "      k = k - 1\n",
        " \n",
        "# Main Function\n",
        "mat = [[1,2,3], \n",
        " [4,5,6],\n",
        " [7,8,9],\n",
        " ];\n",
        "print(\"The array before rotation is \")\n",
        "print_matrix(mat)\n",
        "transpose_matrix(mat)\n",
        "reverse_columns(mat)\n",
        "print(\"\\nThe array after rotation is \")\n",
        "print_matrix(mat)"
      ],
      "execution_count": null,
      "outputs": [
        {
          "output_type": "stream",
          "text": [
            "The array before rotation is \n",
            "1 \n",
            "2 \n",
            "3 \n",
            "4 \n",
            "5 \n",
            "6 \n",
            "7 \n",
            "8 \n",
            "9 \n",
            "\n",
            "The array after rotation is \n",
            "3 \n",
            "6 \n",
            "9 \n",
            "2 \n",
            "5 \n",
            "8 \n",
            "1 \n",
            "4 \n",
            "7 \n"
          ],
          "name": "stdout"
        }
      ]
    }
  ]
}